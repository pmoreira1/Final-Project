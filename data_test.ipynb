{
 "cells": [
  {
   "cell_type": "code",
   "execution_count": null,
   "metadata": {},
   "outputs": [],
   "source": [
    "# Import stuff\n",
    "import pandas as pd\n",
    "import numpy as np\n",
    "import re\n",
    "import functions"
   ]
  },
  {
   "cell_type": "code",
   "execution_count": null,
   "metadata": {},
   "outputs": [],
   "source": [
    "# Load Data\n",
    "hotels = pd.read_csv('data/Hotel_Reviews.csv')"
   ]
  },
  {
   "cell_type": "code",
   "execution_count": null,
   "metadata": {},
   "outputs": [],
   "source": [
    "hotels.head()"
   ]
  },
  {
   "cell_type": "code",
   "execution_count": null,
   "metadata": {},
   "outputs": [],
   "source": [
    "# lat and lng have a lot of missing values so they will be dropped\n",
    "# days_since_review don't matter for much so let's remove it\n",
    "# words/tags also dont't matter for much\n",
    "# In short the most important information is:\n",
    "# \tHotel_Address, Hotel_Name, Reviewer_Nationality, Positive_Review, Negative_Review, Average_Score, Reviewer_Score\n",
    "hotels_short = hotels[['Hotel_Address', 'Hotel_Name', 'Reviewer_Nationality', 'Positive_Review', 'Negative_Review', 'Average_Score', 'Reviewer_Score', 'lat', 'lng']]"
   ]
  },
  {
   "cell_type": "code",
   "execution_count": null,
   "metadata": {},
   "outputs": [],
   "source": [
    "hotels_short.dropna(inplace=True)"
   ]
  },
  {
   "cell_type": "code",
   "execution_count": null,
   "metadata": {},
   "outputs": [],
   "source": [
    "hotels_short.isna().sum()"
   ]
  },
  {
   "cell_type": "code",
   "execution_count": null,
   "metadata": {},
   "outputs": [],
   "source": [
    "hotels_short['Country'] = hotels_short['Hotel_Address'].apply(lambda x: functions.get_country(x))"
   ]
  },
  {
   "cell_type": "code",
   "execution_count": null,
   "metadata": {},
   "outputs": [],
   "source": [
    "# Drop reviews with empty nationality \n",
    "to_drop = hotels_short[hotels_short['Reviewer_Nationality'] == ' ' ].index\n",
    "\n",
    "# Delete these row indexes from dataFrame\n",
    "hotels_short.drop(to_drop , inplace=True)"
   ]
  },
  {
   "cell_type": "code",
   "execution_count": null,
   "metadata": {},
   "outputs": [],
   "source": [
    "final_review_data = hotels_short[['Hotel_Name','Reviewer_Nationality','Reviewer_Score', 'Country','Average_Score','lat','lng']]"
   ]
  },
  {
   "cell_type": "code",
   "execution_count": null,
   "metadata": {},
   "outputs": [],
   "source": [
    "# Trim Reviewer_Nationality\n",
    "final_review_data['Reviewer_Nationality'] = final_review_data['Reviewer_Nationality'].apply(lambda x: x.strip())"
   ]
  },
  {
   "cell_type": "code",
   "execution_count": null,
   "metadata": {},
   "outputs": [],
   "source": [
    "final_review_data.rename(columns={\n",
    "    'Hotel_Name' : 'name',\n",
    "    'Reviewer_Nationality': 'reviewer_country',\n",
    "    'Reviewer_Score': 'reviewer_score', \n",
    "    'Country': 'review_country',\n",
    "    'Average_Score': 'review_average',\n",
    "    'lng': 'long'\n",
    "}, inplace=True)"
   ]
  },
  {
   "cell_type": "code",
   "execution_count": null,
   "metadata": {},
   "outputs": [],
   "source": [
    "%%time\n",
    "# Get unique countries and create a dict to rename values in cols for countries\n",
    "\n",
    "countries = list(final_review_data['reviewer_country'].value_counts().keys())\n",
    "country_trans_dict = {c:functions.get_country_details(c)['idCountry'] for c in countries}\n"
   ]
  },
  {
   "cell_type": "code",
   "execution_count": null,
   "metadata": {
    "scrolled": true
   },
   "outputs": [],
   "source": [
    "final_review_data['reviewer_country'].replace(country_trans_dict, inplace=True)\n",
    "final_review_data['review_country'].replace(country_trans_dict, inplace=True)"
   ]
  },
  {
   "cell_type": "code",
   "execution_count": null,
   "metadata": {},
   "outputs": [],
   "source": [
    "final_review_data['review_category'] = '1' # for Hotels"
   ]
  },
  {
   "cell_type": "code",
   "execution_count": null,
   "metadata": {},
   "outputs": [],
   "source": [
    "final_review_data"
   ]
  },
  {
   "cell_type": "code",
   "execution_count": null,
   "metadata": {},
   "outputs": [],
   "source": [
    "for i, r in final_review_data.iterrows():\n",
    "    q = \"INSERT INTO `final_project`.`reviews` (`name`, `reviewer_score`, `reviewer_country`, `review_country`, `review_average`, `review_category`, `lat`,`long`) VALUES (%s,%s,%s,%s,%s,%s,%s,%s)\"\n",
    "    val = (r['name'],r['reviewer_score'],r['reviewer_country'],r['review_country'],r['review_average'],r['review_category'],r['lat'],r[ 'long'])\n",
    "    insert = functions.db.insert(q,val)\n",
    "    print(i, \"out of\", len(final_review_data),\"Inserted:\", insert)\n",
    "    break"
   ]
  },
  {
   "cell_type": "code",
   "execution_count": null,
   "metadata": {},
   "outputs": [],
   "source": []
  }
 ],
 "metadata": {
  "kernelspec": {
   "display_name": "Python 3",
   "language": "python",
   "name": "python3"
  },
  "language_info": {
   "codemirror_mode": {
    "name": "ipython",
    "version": 3
   },
   "file_extension": ".py",
   "mimetype": "text/x-python",
   "name": "python",
   "nbconvert_exporter": "python",
   "pygments_lexer": "ipython3",
   "version": "3.7.6"
  }
 },
 "nbformat": 4,
 "nbformat_minor": 4
}
