{
 "cells": [
  {
   "cell_type": "code",
   "execution_count": 1,
   "metadata": {},
   "outputs": [],
   "source": [
    "from functions import functions as fc\n",
    "import pandas as pd\n",
    "import numpy as np\n",
    "from sklearn import preprocessing\n",
    "from sklearn.model_selection import train_test_split\n",
    "from sklearn.neighbors import KNeighborsClassifier\n",
    "from sklearn.linear_model import LogisticRegression\n",
    "from sklearn.tree import DecisionTreeClassifier\n",
    "from sklearn.preprocessing import MinMaxScaler\n",
    "from sklearn.ensemble import RandomForestClassifier"
   ]
  },
  {
   "cell_type": "code",
   "execution_count": 2,
   "metadata": {},
   "outputs": [],
   "source": [
    "# Grab nationalities with more reviews (TOP10)\n",
    "q = \"SELECT reviewer_country, COUNT(*) as totalReviews FROM reviews GROUP BY reviewer_country ORDER BY totalReviews DESC LIMIT 10\"\n",
    "nationalities_res = fc.db.select(q, all=True)\n",
    "nationalities = [str(n['reviewer_country']) for n in nationalities_res]\n",
    "b_q = \"SELECT idbusiness from business where category = 1 order by review_count\"\n",
    "business_res = fc.db.select(b_q, all=True)\n",
    "business = [str(b['idbusiness']) for b in business_res]\n",
    "\n",
    "# Get the reviews for this business of the top 10 nationalities\n",
    "r_q = \"SELECT r.idBusiness, reviewer_score, reviewer_score_cal, reviewer_country, rating, rating_cal, country FROM reviews r INNER JOIN business b ON r.idbusiness = b.idbusiness WHERE r.idbusiness IN (\" + (',').join(business) + \") AND reviewer_country IN (\"+ (',').join(nationalities) +\")\"\n",
    "reviews = fc.db.select(r_q, all=True)\n",
    "review_df = pd.DataFrame(reviews)\n",
    "bins = [0, 0.65, 0.85, 1]\n",
    "labels = [1, 2, 3]\n",
    "review_df['b_review'] = pd.cut(review_df['rating_cal'], bins, labels=labels)\n",
    "review_df['u_review'] = pd.cut(review_df['reviewer_score_cal'], bins, labels=labels)\n",
    "model_data = review_df.drop(['idBusiness','reviewer_score','reviewer_score_cal','rating_cal','rating'], axis =1)\n",
    "model_data_no_bin = review_df.drop(['idBusiness','reviewer_score','rating','b_review','u_review'], axis =1)"
   ]
  },
  {
   "cell_type": "code",
   "execution_count": 19,
   "metadata": {},
   "outputs": [
    {
     "data": {
      "text/html": [
       "<div>\n",
       "<style scoped>\n",
       "    .dataframe tbody tr th:only-of-type {\n",
       "        vertical-align: middle;\n",
       "    }\n",
       "\n",
       "    .dataframe tbody tr th {\n",
       "        vertical-align: top;\n",
       "    }\n",
       "\n",
       "    .dataframe thead th {\n",
       "        text-align: right;\n",
       "    }\n",
       "</style>\n",
       "<table border=\"1\" class=\"dataframe\">\n",
       "  <thead>\n",
       "    <tr style=\"text-align: right;\">\n",
       "      <th></th>\n",
       "      <th>country</th>\n",
       "      <th>b_review</th>\n",
       "      <th>u_review</th>\n",
       "    </tr>\n",
       "  </thead>\n",
       "  <tbody>\n",
       "    <tr>\n",
       "      <th>2</th>\n",
       "      <td>157</td>\n",
       "      <td>3</td>\n",
       "      <td>2</td>\n",
       "    </tr>\n",
       "    <tr>\n",
       "      <th>3</th>\n",
       "      <td>157</td>\n",
       "      <td>3</td>\n",
       "      <td>2</td>\n",
       "    </tr>\n",
       "    <tr>\n",
       "      <th>4</th>\n",
       "      <td>157</td>\n",
       "      <td>3</td>\n",
       "      <td>3</td>\n",
       "    </tr>\n",
       "    <tr>\n",
       "      <th>5</th>\n",
       "      <td>157</td>\n",
       "      <td>3</td>\n",
       "      <td>3</td>\n",
       "    </tr>\n",
       "    <tr>\n",
       "      <th>6</th>\n",
       "      <td>157</td>\n",
       "      <td>3</td>\n",
       "      <td>2</td>\n",
       "    </tr>\n",
       "    <tr>\n",
       "      <th>...</th>\n",
       "      <td>...</td>\n",
       "      <td>...</td>\n",
       "      <td>...</td>\n",
       "    </tr>\n",
       "    <tr>\n",
       "      <th>366453</th>\n",
       "      <td>15</td>\n",
       "      <td>3</td>\n",
       "      <td>3</td>\n",
       "    </tr>\n",
       "    <tr>\n",
       "      <th>366457</th>\n",
       "      <td>15</td>\n",
       "      <td>3</td>\n",
       "      <td>3</td>\n",
       "    </tr>\n",
       "    <tr>\n",
       "      <th>366458</th>\n",
       "      <td>15</td>\n",
       "      <td>3</td>\n",
       "      <td>3</td>\n",
       "    </tr>\n",
       "    <tr>\n",
       "      <th>366459</th>\n",
       "      <td>15</td>\n",
       "      <td>3</td>\n",
       "      <td>2</td>\n",
       "    </tr>\n",
       "    <tr>\n",
       "      <th>366460</th>\n",
       "      <td>15</td>\n",
       "      <td>3</td>\n",
       "      <td>2</td>\n",
       "    </tr>\n",
       "  </tbody>\n",
       "</table>\n",
       "<p>243661 rows × 3 columns</p>\n",
       "</div>"
      ],
      "text/plain": [
       "       country b_review u_review\n",
       "2          157        3        2\n",
       "3          157        3        2\n",
       "4          157        3        3\n",
       "5          157        3        3\n",
       "6          157        3        2\n",
       "...        ...      ...      ...\n",
       "366453      15        3        3\n",
       "366457      15        3        3\n",
       "366458      15        3        3\n",
       "366459      15        3        2\n",
       "366460      15        3        2\n",
       "\n",
       "[243661 rows x 3 columns]"
      ]
     },
     "execution_count": 19,
     "metadata": {},
     "output_type": "execute_result"
    }
   ],
   "source": [
    "final_data = model_data[model_data['reviewer_country'] == 235].drop('reviewer_country', axis=1)\n",
    "final_data"
   ]
  },
  {
   "cell_type": "code",
   "execution_count": 20,
   "metadata": {},
   "outputs": [],
   "source": [
    "pred = 'u_review'\n",
    "X = final_data.drop(columns=[pred])\n",
    "y = final_data[pred].values\n",
    "\n",
    "X_train, X_test, y_train, y_test = train_test_split(X, y, test_size=0.2)"
   ]
  },
  {
   "cell_type": "code",
   "execution_count": 21,
   "metadata": {},
   "outputs": [
    {
     "name": "stdout",
     "output_type": "stream",
     "text": [
      "(194928, 2) (48733, 2) (194928,) (48733,)\n"
     ]
    }
   ],
   "source": [
    "print(X_train.shape, X_test.shape, y_train.shape, y_test.shape)"
   ]
  },
  {
   "cell_type": "code",
   "execution_count": 41,
   "metadata": {},
   "outputs": [
    {
     "name": "stdout",
     "output_type": "stream",
     "text": [
      "       country b_review\n",
      "177754     235        3\n",
      "338347     235        3\n",
      "146574     235        3\n",
      "152531     235        3\n",
      "98634      235        3\n",
      "...        ...      ...\n",
      "243137     235        3\n",
      "182373     235        3\n",
      "58153      235        3\n",
      "359364     235        3\n",
      "307122     157        3\n",
      "\n",
      "[194928 rows x 2 columns]\n"
     ]
    }
   ],
   "source": [
    "print(X_train)"
   ]
  },
  {
   "cell_type": "code",
   "execution_count": 36,
   "metadata": {},
   "outputs": [
    {
     "name": "stdout",
     "output_type": "stream",
     "text": [
      "Accuracy of K-NN classifier on training set: 0.877867725519166\n",
      "Accuracy of K-NN classifier on test set: 0.8812098577965649\n"
     ]
    }
   ],
   "source": [
    "# KNN\n",
    "\n",
    "knn = KNeighborsClassifier(n_neighbors=5)\n",
    "knn.fit(X_train, y_train)\n",
    "print('Accuracy of K-NN classifier on training set:', knn.score(X_train, y_train))\n",
    "print('Accuracy of K-NN classifier on test set:', knn.score(X_test, y_test))"
   ]
  },
  {
   "cell_type": "code",
   "execution_count": 37,
   "metadata": {},
   "outputs": [
    {
     "name": "stdout",
     "output_type": "stream",
     "text": [
      "Accuracy of Logistic regression classifier on training set: 0.8778369449232537\n",
      "Accuracy of Logistic regression classifier on test set: 0.8813534976299428\n"
     ]
    }
   ],
   "source": [
    "# Logistic Regression\n",
    "\n",
    "logreg = LogisticRegression().fit(X_train, y_train)\n",
    "print('Accuracy of Logistic regression classifier on training set:', logreg.score(X_train, y_train))\n",
    "print('Accuracy of Logistic regression classifier on test set:' , logreg.score(X_test, y_test))"
   ]
  },
  {
   "cell_type": "code",
   "execution_count": 38,
   "metadata": {},
   "outputs": [
    {
     "name": "stdout",
     "output_type": "stream",
     "text": [
      "Accuracy of Decision Tree classifier on training set: 0.8778985061150784\n",
      "Accuracy of Decision Tree classifier on test set: 0.8812508977489586\n"
     ]
    }
   ],
   "source": [
    "# Decision Tree\n",
    "\n",
    "clf = DecisionTreeClassifier().fit(X_train, y_train)\n",
    "print('Accuracy of Decision Tree classifier on training set:', clf.score(X_train, y_train))\n",
    "print('Accuracy of Decision Tree classifier on test set:', clf.score(X_test, y_test))"
   ]
  },
  {
   "cell_type": "code",
   "execution_count": 39,
   "metadata": {},
   "outputs": [
    {
     "name": "stdout",
     "output_type": "stream",
     "text": [
      "Accuracy of Random Forest classifier on training set: 0.8778985061150784\n",
      "Accuracy of Random Forest classifier on test set: 0.8812508977489586\n"
     ]
    }
   ],
   "source": [
    "# Random Forest Classifier\n",
    "\n",
    "rf = RandomForestClassifier()\n",
    "rf.fit(X_train, y_train)\n",
    "print('Accuracy of Random Forest classifier on training set:', rf.score(X_train, y_train))\n",
    "print('Accuracy of Random Forest classifier on test set:', rf.score(X_test, y_test))"
   ]
  },
  {
   "cell_type": "code",
   "execution_count": 26,
   "metadata": {},
   "outputs": [],
   "source": [
    "knn_pred = knn.predict(X_test)"
   ]
  },
  {
   "cell_type": "code",
   "execution_count": 27,
   "metadata": {},
   "outputs": [],
   "source": [
    "logreg_pred = logreg.predict(X_test)"
   ]
  },
  {
   "cell_type": "code",
   "execution_count": 28,
   "metadata": {},
   "outputs": [],
   "source": [
    "clf_pred = clf.predict(X_test)"
   ]
  },
  {
   "cell_type": "code",
   "execution_count": 29,
   "metadata": {},
   "outputs": [],
   "source": [
    "rf_pred = rf.predict(X_test)"
   ]
  },
  {
   "cell_type": "code",
   "execution_count": 40,
   "metadata": {},
   "outputs": [
    {
     "data": {
      "text/html": [
       "<div>\n",
       "<style scoped>\n",
       "    .dataframe tbody tr th:only-of-type {\n",
       "        vertical-align: middle;\n",
       "    }\n",
       "\n",
       "    .dataframe tbody tr th {\n",
       "        vertical-align: top;\n",
       "    }\n",
       "\n",
       "    .dataframe thead th {\n",
       "        text-align: right;\n",
       "    }\n",
       "</style>\n",
       "<table border=\"1\" class=\"dataframe\">\n",
       "  <thead>\n",
       "    <tr style=\"text-align: right;\">\n",
       "      <th></th>\n",
       "      <th>reviewer_country</th>\n",
       "      <th>country</th>\n",
       "      <th>b_review</th>\n",
       "      <th>u_review</th>\n",
       "    </tr>\n",
       "  </thead>\n",
       "  <tbody>\n",
       "    <tr>\n",
       "      <th>0</th>\n",
       "      <td>108</td>\n",
       "      <td>157</td>\n",
       "      <td>3</td>\n",
       "      <td>3</td>\n",
       "    </tr>\n",
       "    <tr>\n",
       "      <th>1</th>\n",
       "      <td>14</td>\n",
       "      <td>157</td>\n",
       "      <td>3</td>\n",
       "      <td>3</td>\n",
       "    </tr>\n",
       "    <tr>\n",
       "      <th>2</th>\n",
       "      <td>235</td>\n",
       "      <td>157</td>\n",
       "      <td>3</td>\n",
       "      <td>2</td>\n",
       "    </tr>\n",
       "    <tr>\n",
       "      <th>3</th>\n",
       "      <td>235</td>\n",
       "      <td>157</td>\n",
       "      <td>3</td>\n",
       "      <td>2</td>\n",
       "    </tr>\n",
       "    <tr>\n",
       "      <th>4</th>\n",
       "      <td>235</td>\n",
       "      <td>157</td>\n",
       "      <td>3</td>\n",
       "      <td>3</td>\n",
       "    </tr>\n",
       "    <tr>\n",
       "      <th>...</th>\n",
       "      <td>...</td>\n",
       "      <td>...</td>\n",
       "      <td>...</td>\n",
       "      <td>...</td>\n",
       "    </tr>\n",
       "    <tr>\n",
       "      <th>366457</th>\n",
       "      <td>235</td>\n",
       "      <td>15</td>\n",
       "      <td>3</td>\n",
       "      <td>3</td>\n",
       "    </tr>\n",
       "    <tr>\n",
       "      <th>366458</th>\n",
       "      <td>235</td>\n",
       "      <td>15</td>\n",
       "      <td>3</td>\n",
       "      <td>3</td>\n",
       "    </tr>\n",
       "    <tr>\n",
       "      <th>366459</th>\n",
       "      <td>235</td>\n",
       "      <td>15</td>\n",
       "      <td>3</td>\n",
       "      <td>2</td>\n",
       "    </tr>\n",
       "    <tr>\n",
       "      <th>366460</th>\n",
       "      <td>235</td>\n",
       "      <td>15</td>\n",
       "      <td>3</td>\n",
       "      <td>2</td>\n",
       "    </tr>\n",
       "    <tr>\n",
       "      <th>366461</th>\n",
       "      <td>84</td>\n",
       "      <td>15</td>\n",
       "      <td>3</td>\n",
       "      <td>3</td>\n",
       "    </tr>\n",
       "  </tbody>\n",
       "</table>\n",
       "<p>366462 rows × 4 columns</p>\n",
       "</div>"
      ],
      "text/plain": [
       "        reviewer_country country b_review u_review\n",
       "0                    108     157        3        3\n",
       "1                     14     157        3        3\n",
       "2                    235     157        3        2\n",
       "3                    235     157        3        2\n",
       "4                    235     157        3        3\n",
       "...                  ...     ...      ...      ...\n",
       "366457               235      15        3        3\n",
       "366458               235      15        3        3\n",
       "366459               235      15        3        2\n",
       "366460               235      15        3        2\n",
       "366461                84      15        3        3\n",
       "\n",
       "[366462 rows x 4 columns]"
      ]
     },
     "execution_count": 40,
     "metadata": {},
     "output_type": "execute_result"
    }
   ],
   "source": [
    "model_data"
   ]
  },
  {
   "cell_type": "code",
   "execution_count": 15,
   "metadata": {},
   "outputs": [
    {
     "name": "stdout",
     "output_type": "stream",
     "text": [
      "[2, 3, 3, 3, 3, ..., 3, 3, 3, 2, 1]\n",
      "Length: 6990\n",
      "Categories (3, int64): [1 < 2 < 3]\n",
      "[3 3 3 ... 3 3 3]\n",
      "[3 3 3 ... 3 3 3]\n",
      "[3 3 3 ... 3 3 3]\n",
      "[3 3 3 ... 3 3 3]\n"
     ]
    }
   ],
   "source": [
    "print(y_test)\n",
    "print(knn_pred)\n",
    "print(logreg_pred)\n",
    "print(clf_pred)\n",
    "print(rf_pred)"
   ]
  },
  {
   "cell_type": "code",
   "execution_count": 34,
   "metadata": {},
   "outputs": [
    {
     "name": "stdout",
     "output_type": "stream",
     "text": [
      "[2]\n"
     ]
    }
   ],
   "source": [
    "test_input = pd.DataFrame([157,1]).T\n",
    "print(knn.predict(test_input))\n",
    "# test_input"
   ]
  },
  {
   "cell_type": "code",
   "execution_count": null,
   "metadata": {},
   "outputs": [],
   "source": []
  },
  {
   "cell_type": "code",
   "execution_count": null,
   "metadata": {},
   "outputs": [],
   "source": []
  }
 ],
 "metadata": {
  "kernelspec": {
   "display_name": "Python 3",
   "language": "python",
   "name": "python3"
  },
  "language_info": {
   "codemirror_mode": {
    "name": "ipython",
    "version": 3
   },
   "file_extension": ".py",
   "mimetype": "text/x-python",
   "name": "python",
   "nbconvert_exporter": "python",
   "pygments_lexer": "ipython3",
   "version": "3.7.6"
  }
 },
 "nbformat": 4,
 "nbformat_minor": 4
}
